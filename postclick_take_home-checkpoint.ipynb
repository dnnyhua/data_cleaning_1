{
 "cells": [
  {
   "cell_type": "code",
   "execution_count": 1,
   "metadata": {},
   "outputs": [],
   "source": [
    "import pandas as pd\n",
    "import re\n",
    "import matplotlib.pyplot as plt\n",
    "import seaborn as sns\n",
    "import numpy as np\n",
    "import statsmodels.api as sm\n",
    "%matplotlib inline"
   ]
  },
  {
   "cell_type": "code",
   "execution_count": 2,
   "metadata": {},
   "outputs": [
    {
     "data": {
      "text/html": [
       "<div>\n",
       "<style scoped>\n",
       "    .dataframe tbody tr th:only-of-type {\n",
       "        vertical-align: middle;\n",
       "    }\n",
       "\n",
       "    .dataframe tbody tr th {\n",
       "        vertical-align: top;\n",
       "    }\n",
       "\n",
       "    .dataframe thead th {\n",
       "        text-align: right;\n",
       "    }\n",
       "</style>\n",
       "<table border=\"1\" class=\"dataframe\">\n",
       "  <thead>\n",
       "    <tr style=\"text-align: right;\">\n",
       "      <th></th>\n",
       "      <th>FILE_ID</th>\n",
       "      <th>Unnamed: 1</th>\n",
       "      <th>Unnamed: 2</th>\n",
       "      <th>USER</th>\n",
       "      <th>Unnamed: 4</th>\n",
       "      <th>Unnamed: 5</th>\n",
       "      <th>CREATED</th>\n",
       "      <th>Unnamed: 7</th>\n",
       "      <th>Unnamed: 8</th>\n",
       "      <th>UPDATED</th>\n",
       "      <th>Unnamed: 10</th>\n",
       "      <th>Unnamed: 11</th>\n",
       "      <th>DELETED</th>\n",
       "      <th>Unnamed: 13</th>\n",
       "      <th>Unnamed: 14</th>\n",
       "      <th>VERSION</th>\n",
       "    </tr>\n",
       "  </thead>\n",
       "  <tbody>\n",
       "    <tr>\n",
       "      <th>0</th>\n",
       "      <td>rrT0615</td>\n",
       "      <td>NaN</td>\n",
       "      <td>NaN</td>\n",
       "      <td>3633870</td>\n",
       "      <td>NaN</td>\n",
       "      <td>NaN</td>\n",
       "      <td>2019-08-01</td>\n",
       "      <td>NaN</td>\n",
       "      <td>NaN</td>\n",
       "      <td>2019-08-14</td>\n",
       "      <td>NaN</td>\n",
       "      <td>NaN</td>\n",
       "      <td>NaT</td>\n",
       "      <td>NaN</td>\n",
       "      <td>NaN</td>\n",
       "      <td>26</td>\n",
       "    </tr>\n",
       "    <tr>\n",
       "      <th>1</th>\n",
       "      <td>rrT0625</td>\n",
       "      <td>NaN</td>\n",
       "      <td>NaN</td>\n",
       "      <td>2853751</td>\n",
       "      <td>NaN</td>\n",
       "      <td>NaN</td>\n",
       "      <td>2019-08-01</td>\n",
       "      <td>NaN</td>\n",
       "      <td>NaN</td>\n",
       "      <td>2019-11-19</td>\n",
       "      <td>NaN</td>\n",
       "      <td>NaN</td>\n",
       "      <td>1970-01-01</td>\n",
       "      <td>NaN</td>\n",
       "      <td>NaN</td>\n",
       "      <td>26</td>\n",
       "    </tr>\n",
       "    <tr>\n",
       "      <th>2</th>\n",
       "      <td>rrT0630</td>\n",
       "      <td>NaN</td>\n",
       "      <td>NaN</td>\n",
       "      <td>2538826</td>\n",
       "      <td>NaN</td>\n",
       "      <td>NaN</td>\n",
       "      <td>2019-08-01</td>\n",
       "      <td>NaN</td>\n",
       "      <td>NaN</td>\n",
       "      <td>2019-09-28</td>\n",
       "      <td>NaN</td>\n",
       "      <td>NaN</td>\n",
       "      <td>NaT</td>\n",
       "      <td>NaN</td>\n",
       "      <td>NaN</td>\n",
       "      <td>2</td>\n",
       "    </tr>\n",
       "    <tr>\n",
       "      <th>3</th>\n",
       "      <td>rrT0635</td>\n",
       "      <td>NaN</td>\n",
       "      <td>NaN</td>\n",
       "      <td>1642941</td>\n",
       "      <td>NaN</td>\n",
       "      <td>NaN</td>\n",
       "      <td>2019-08-01</td>\n",
       "      <td>NaN</td>\n",
       "      <td>NaN</td>\n",
       "      <td>2019-12-05</td>\n",
       "      <td>NaN</td>\n",
       "      <td>NaN</td>\n",
       "      <td>NaT</td>\n",
       "      <td>NaN</td>\n",
       "      <td>NaN</td>\n",
       "      <td>5</td>\n",
       "    </tr>\n",
       "    <tr>\n",
       "      <th>4</th>\n",
       "      <td>rrT0640</td>\n",
       "      <td>NaN</td>\n",
       "      <td>NaN</td>\n",
       "      <td>3635605</td>\n",
       "      <td>NaN</td>\n",
       "      <td>NaN</td>\n",
       "      <td>2019-08-01</td>\n",
       "      <td>NaN</td>\n",
       "      <td>NaN</td>\n",
       "      <td>2019-10-13</td>\n",
       "      <td>NaN</td>\n",
       "      <td>NaN</td>\n",
       "      <td>2019-10-13</td>\n",
       "      <td>NaN</td>\n",
       "      <td>NaN</td>\n",
       "      <td>1</td>\n",
       "    </tr>\n",
       "  </tbody>\n",
       "</table>\n",
       "</div>"
      ],
      "text/plain": [
       "   FILE_ID  Unnamed: 1  Unnamed: 2     USER  Unnamed: 4  Unnamed: 5  \\\n",
       "0  rrT0615         NaN         NaN  3633870         NaN         NaN   \n",
       "1  rrT0625         NaN         NaN  2853751         NaN         NaN   \n",
       "2  rrT0630         NaN         NaN  2538826         NaN         NaN   \n",
       "3  rrT0635         NaN         NaN  1642941         NaN         NaN   \n",
       "4  rrT0640         NaN         NaN  3635605         NaN         NaN   \n",
       "\n",
       "     CREATED  Unnamed: 7  Unnamed: 8    UPDATED  Unnamed: 10  Unnamed: 11  \\\n",
       "0 2019-08-01         NaN         NaN 2019-08-14          NaN          NaN   \n",
       "1 2019-08-01         NaN         NaN 2019-11-19          NaN          NaN   \n",
       "2 2019-08-01         NaN         NaN 2019-09-28          NaN          NaN   \n",
       "3 2019-08-01         NaN         NaN 2019-12-05          NaN          NaN   \n",
       "4 2019-08-01         NaN         NaN 2019-10-13          NaN          NaN   \n",
       "\n",
       "     DELETED  Unnamed: 13  Unnamed: 14 VERSION  \n",
       "0        NaT          NaN          NaN      26  \n",
       "1 1970-01-01          NaN          NaN      26  \n",
       "2        NaT          NaN          NaN       2  \n",
       "3        NaT          NaN          NaN       5  \n",
       "4 2019-10-13          NaN          NaN       1  "
      ]
     },
     "execution_count": 2,
     "metadata": {},
     "output_type": "execute_result"
    }
   ],
   "source": [
    "date_columns = ['CREATED','UPDATED', 'DELETED']\n",
    "df = pd.read_csv(\"instapage.csv\", sep = '[/|]', engine = 'python', parse_dates=date_columns)\n",
    "df.head(5)"
   ]
  },
  {
   "cell_type": "code",
   "execution_count": 3,
   "metadata": {
    "scrolled": true
   },
   "outputs": [
    {
     "data": {
      "text/html": [
       "<div>\n",
       "<style scoped>\n",
       "    .dataframe tbody tr th:only-of-type {\n",
       "        vertical-align: middle;\n",
       "    }\n",
       "\n",
       "    .dataframe tbody tr th {\n",
       "        vertical-align: top;\n",
       "    }\n",
       "\n",
       "    .dataframe thead th {\n",
       "        text-align: right;\n",
       "    }\n",
       "</style>\n",
       "<table border=\"1\" class=\"dataframe\">\n",
       "  <thead>\n",
       "    <tr style=\"text-align: right;\">\n",
       "      <th></th>\n",
       "      <th>FILE_ID</th>\n",
       "      <th>USER</th>\n",
       "      <th>CREATED</th>\n",
       "      <th>UPDATED</th>\n",
       "      <th>DELETED</th>\n",
       "      <th>VERSION</th>\n",
       "    </tr>\n",
       "  </thead>\n",
       "  <tbody>\n",
       "    <tr>\n",
       "      <th>0</th>\n",
       "      <td>rrT0615</td>\n",
       "      <td>3633870</td>\n",
       "      <td>2019-08-01</td>\n",
       "      <td>2019-08-14</td>\n",
       "      <td>NaT</td>\n",
       "      <td>26</td>\n",
       "    </tr>\n",
       "    <tr>\n",
       "      <th>1</th>\n",
       "      <td>rrT0625</td>\n",
       "      <td>2853751</td>\n",
       "      <td>2019-08-01</td>\n",
       "      <td>2019-11-19</td>\n",
       "      <td>1970-01-01</td>\n",
       "      <td>26</td>\n",
       "    </tr>\n",
       "    <tr>\n",
       "      <th>2</th>\n",
       "      <td>rrT0630</td>\n",
       "      <td>2538826</td>\n",
       "      <td>2019-08-01</td>\n",
       "      <td>2019-09-28</td>\n",
       "      <td>NaT</td>\n",
       "      <td>2</td>\n",
       "    </tr>\n",
       "    <tr>\n",
       "      <th>3</th>\n",
       "      <td>rrT0635</td>\n",
       "      <td>1642941</td>\n",
       "      <td>2019-08-01</td>\n",
       "      <td>2019-12-05</td>\n",
       "      <td>NaT</td>\n",
       "      <td>5</td>\n",
       "    </tr>\n",
       "    <tr>\n",
       "      <th>4</th>\n",
       "      <td>rrT0640</td>\n",
       "      <td>3635605</td>\n",
       "      <td>2019-08-01</td>\n",
       "      <td>2019-10-13</td>\n",
       "      <td>2019-10-13</td>\n",
       "      <td>1</td>\n",
       "    </tr>\n",
       "  </tbody>\n",
       "</table>\n",
       "</div>"
      ],
      "text/plain": [
       "   FILE_ID     USER    CREATED    UPDATED    DELETED VERSION\n",
       "0  rrT0615  3633870 2019-08-01 2019-08-14        NaT      26\n",
       "1  rrT0625  2853751 2019-08-01 2019-11-19 1970-01-01      26\n",
       "2  rrT0630  2538826 2019-08-01 2019-09-28        NaT       2\n",
       "3  rrT0635  1642941 2019-08-01 2019-12-05        NaT       5\n",
       "4  rrT0640  3635605 2019-08-01 2019-10-13 2019-10-13       1"
      ]
     },
     "execution_count": 3,
     "metadata": {},
     "output_type": "execute_result"
    }
   ],
   "source": [
    "df.drop(df.columns[[1,2,4,5,7,8,10,11,13,14]], axis=1, inplace=True)\n",
    "df.head(5)"
   ]
  },
  {
   "cell_type": "code",
   "execution_count": 4,
   "metadata": {
    "scrolled": true
   },
   "outputs": [
    {
     "data": {
      "text/html": [
       "<div>\n",
       "<style scoped>\n",
       "    .dataframe tbody tr th:only-of-type {\n",
       "        vertical-align: middle;\n",
       "    }\n",
       "\n",
       "    .dataframe tbody tr th {\n",
       "        vertical-align: top;\n",
       "    }\n",
       "\n",
       "    .dataframe thead th {\n",
       "        text-align: right;\n",
       "    }\n",
       "</style>\n",
       "<table border=\"1\" class=\"dataframe\">\n",
       "  <thead>\n",
       "    <tr style=\"text-align: right;\">\n",
       "      <th></th>\n",
       "      <th>file_id</th>\n",
       "      <th>user</th>\n",
       "      <th>created</th>\n",
       "      <th>updated</th>\n",
       "      <th>deleted</th>\n",
       "      <th>version</th>\n",
       "    </tr>\n",
       "  </thead>\n",
       "  <tbody>\n",
       "    <tr>\n",
       "      <th>0</th>\n",
       "      <td>rrT0615</td>\n",
       "      <td>3633870</td>\n",
       "      <td>2019-08-01</td>\n",
       "      <td>2019-08-14</td>\n",
       "      <td>NaT</td>\n",
       "      <td>26</td>\n",
       "    </tr>\n",
       "  </tbody>\n",
       "</table>\n",
       "</div>"
      ],
      "text/plain": [
       "   file_id     user    created    updated deleted version\n",
       "0  rrT0615  3633870 2019-08-01 2019-08-14     NaT      26"
      ]
     },
     "execution_count": 4,
     "metadata": {},
     "output_type": "execute_result"
    }
   ],
   "source": [
    "# lets rename the headers\n",
    "df = df.rename(columns = {'FILE_ID':'file_id','USER':'user','CREATED':'created','UPDATED':'updated'\n",
    "                          ,'DELETED':'deleted','VERSION':'version'})\n",
    "df.head(1)"
   ]
  },
  {
   "cell_type": "code",
   "execution_count": 5,
   "metadata": {},
   "outputs": [
    {
     "data": {
      "text/plain": [
       "(102133, 6)"
      ]
     },
     "execution_count": 5,
     "metadata": {},
     "output_type": "execute_result"
    }
   ],
   "source": [
    "df.shape"
   ]
  },
  {
   "cell_type": "code",
   "execution_count": 6,
   "metadata": {},
   "outputs": [
    {
     "data": {
      "text/plain": [
       "file_id        0\n",
       "user           4\n",
       "created        0\n",
       "updated        0\n",
       "deleted    73795\n",
       "version       30\n",
       "dtype: int64"
      ]
     },
     "execution_count": 6,
     "metadata": {},
     "output_type": "execute_result"
    }
   ],
   "source": [
    "df.isnull().sum()"
   ]
  },
  {
   "cell_type": "code",
   "execution_count": 7,
   "metadata": {
    "scrolled": false
   },
   "outputs": [
    {
     "data": {
      "text/html": [
       "<div>\n",
       "<style scoped>\n",
       "    .dataframe tbody tr th:only-of-type {\n",
       "        vertical-align: middle;\n",
       "    }\n",
       "\n",
       "    .dataframe tbody tr th {\n",
       "        vertical-align: top;\n",
       "    }\n",
       "\n",
       "    .dataframe thead th {\n",
       "        text-align: right;\n",
       "    }\n",
       "</style>\n",
       "<table border=\"1\" class=\"dataframe\">\n",
       "  <thead>\n",
       "    <tr style=\"text-align: right;\">\n",
       "      <th></th>\n",
       "      <th>file_id</th>\n",
       "      <th>user</th>\n",
       "      <th>created</th>\n",
       "      <th>updated</th>\n",
       "      <th>deleted</th>\n",
       "      <th>version</th>\n",
       "    </tr>\n",
       "  </thead>\n",
       "  <tbody>\n",
       "    <tr>\n",
       "      <th>count</th>\n",
       "      <td>102133</td>\n",
       "      <td>102129</td>\n",
       "      <td>102133</td>\n",
       "      <td>102133</td>\n",
       "      <td>28338</td>\n",
       "      <td>102103</td>\n",
       "    </tr>\n",
       "    <tr>\n",
       "      <th>unique</th>\n",
       "      <td>102133</td>\n",
       "      <td>10035</td>\n",
       "      <td>92</td>\n",
       "      <td>188</td>\n",
       "      <td>189</td>\n",
       "      <td>420</td>\n",
       "    </tr>\n",
       "    <tr>\n",
       "      <th>top</th>\n",
       "      <td>fgT31245</td>\n",
       "      <td>3282991</td>\n",
       "      <td>2019-08-13 00:00:00</td>\n",
       "      <td>2019-08-13 00:00:00</td>\n",
       "      <td>2019-10-25 00:00:00</td>\n",
       "      <td>1</td>\n",
       "    </tr>\n",
       "    <tr>\n",
       "      <th>freq</th>\n",
       "      <td>1</td>\n",
       "      <td>6038</td>\n",
       "      <td>5123</td>\n",
       "      <td>4405</td>\n",
       "      <td>474</td>\n",
       "      <td>27476</td>\n",
       "    </tr>\n",
       "    <tr>\n",
       "      <th>first</th>\n",
       "      <td>NaN</td>\n",
       "      <td>NaN</td>\n",
       "      <td>2019-08-01 00:00:00</td>\n",
       "      <td>2019-08-01 00:00:00</td>\n",
       "      <td>1970-01-01 00:00:00</td>\n",
       "      <td>NaN</td>\n",
       "    </tr>\n",
       "    <tr>\n",
       "      <th>last</th>\n",
       "      <td>NaN</td>\n",
       "      <td>NaN</td>\n",
       "      <td>2019-10-31 00:00:00</td>\n",
       "      <td>2020-02-04 00:00:00</td>\n",
       "      <td>2020-02-04 00:00:00</td>\n",
       "      <td>NaN</td>\n",
       "    </tr>\n",
       "  </tbody>\n",
       "</table>\n",
       "</div>"
      ],
      "text/plain": [
       "         file_id     user              created              updated  \\\n",
       "count     102133   102129               102133               102133   \n",
       "unique    102133    10035                   92                  188   \n",
       "top     fgT31245  3282991  2019-08-13 00:00:00  2019-08-13 00:00:00   \n",
       "freq           1     6038                 5123                 4405   \n",
       "first        NaN      NaN  2019-08-01 00:00:00  2019-08-01 00:00:00   \n",
       "last         NaN      NaN  2019-10-31 00:00:00  2020-02-04 00:00:00   \n",
       "\n",
       "                    deleted version  \n",
       "count                 28338  102103  \n",
       "unique                  189     420  \n",
       "top     2019-10-25 00:00:00       1  \n",
       "freq                    474   27476  \n",
       "first   1970-01-01 00:00:00     NaN  \n",
       "last    2020-02-04 00:00:00     NaN  "
      ]
     },
     "execution_count": 7,
     "metadata": {},
     "output_type": "execute_result"
    }
   ],
   "source": [
    "df.describe()"
   ]
  },
  {
   "cell_type": "markdown",
   "metadata": {},
   "source": [
    "#### Notice how deleted has a date as early as 1970 when the dataset is supposed to have files created between aug 1st 2019 and Oct 31st 2019"
   ]
  },
  {
   "cell_type": "code",
   "execution_count": 8,
   "metadata": {
    "scrolled": false
   },
   "outputs": [
    {
     "name": "stdout",
     "output_type": "stream",
     "text": [
      "         file_id     user    created    updated    deleted version\n",
      "1        rrT0625  2853751 2019-08-01 2019-11-19 1970-01-01      26\n",
      "500      KLp3685  2728736 2019-08-01 2019-08-01 1970-01-01       2\n",
      "569      KLp4075  3161776 2019-08-01 2019-12-09 1970-01-01       2\n",
      "597      KLp4290   262451 2019-08-01 2019-08-21 1970-01-01       2\n",
      "2482    ffR12445    43539 2019-08-02 2019-10-14 1970-01-01       3\n",
      "...          ...      ...        ...        ...        ...     ...\n",
      "100308  Gty08340  2784921 2019-10-30 2019-11-25 1970-01-01      18\n",
      "100448  Gty09150  2750096 2019-10-30 2019-12-18 1970-01-01       4\n",
      "101091  Gty26545  3641515 2019-10-31 2019-10-31 1970-01-01       2\n",
      "101302  Gty27735  2750096 2019-10-31 2019-11-15 1970-01-01     126\n",
      "101860  Gty30960  3412780 2019-10-31 2019-12-18 1970-01-01      59\n",
      "\n",
      "[259 rows x 6 columns]\n"
     ]
    }
   ],
   "source": [
    "# Lets see how many rows has a date earlier than 8/1/2019\n",
    "print(df[df['deleted']< '2019-08-01'])"
   ]
  },
  {
   "cell_type": "code",
   "execution_count": 9,
   "metadata": {
    "scrolled": true
   },
   "outputs": [
    {
     "name": "stdout",
     "output_type": "stream",
     "text": [
      "259\n"
     ]
    }
   ],
   "source": [
    "# Check to see if there are 259 rows with 1970 dates\n",
    "print(len(df[df['deleted']== '1970-01-01']))"
   ]
  },
  {
   "cell_type": "markdown",
   "metadata": {},
   "source": [
    "#### There are 259 rows that has deleted date in 1970. This is clearly wrong. If we take a look at a few rows, it looks like deleted date is the same as updated date."
   ]
  },
  {
   "cell_type": "code",
   "execution_count": 10,
   "metadata": {
    "scrolled": true
   },
   "outputs": [
    {
     "data": {
      "text/html": [
       "<div>\n",
       "<style scoped>\n",
       "    .dataframe tbody tr th:only-of-type {\n",
       "        vertical-align: middle;\n",
       "    }\n",
       "\n",
       "    .dataframe tbody tr th {\n",
       "        vertical-align: top;\n",
       "    }\n",
       "\n",
       "    .dataframe thead th {\n",
       "        text-align: right;\n",
       "    }\n",
       "</style>\n",
       "<table border=\"1\" class=\"dataframe\">\n",
       "  <thead>\n",
       "    <tr style=\"text-align: right;\">\n",
       "      <th></th>\n",
       "      <th>file_id</th>\n",
       "      <th>user</th>\n",
       "      <th>created</th>\n",
       "      <th>updated</th>\n",
       "      <th>deleted</th>\n",
       "      <th>version</th>\n",
       "    </tr>\n",
       "  </thead>\n",
       "  <tbody>\n",
       "    <tr>\n",
       "      <th>1</th>\n",
       "      <td>rrT0625</td>\n",
       "      <td>2853751</td>\n",
       "      <td>2019-08-01</td>\n",
       "      <td>2019-11-19</td>\n",
       "      <td>1970-01-01</td>\n",
       "      <td>26</td>\n",
       "    </tr>\n",
       "    <tr>\n",
       "      <th>4</th>\n",
       "      <td>rrT0640</td>\n",
       "      <td>3635605</td>\n",
       "      <td>2019-08-01</td>\n",
       "      <td>2019-10-13</td>\n",
       "      <td>2019-10-13</td>\n",
       "      <td>1</td>\n",
       "    </tr>\n",
       "    <tr>\n",
       "      <th>5</th>\n",
       "      <td>rrT0645</td>\n",
       "      <td>268126</td>\n",
       "      <td>2019-08-01</td>\n",
       "      <td>2019-11-08</td>\n",
       "      <td>2019-11-08</td>\n",
       "      <td>49</td>\n",
       "    </tr>\n",
       "    <tr>\n",
       "      <th>11</th>\n",
       "      <td>rrT0860</td>\n",
       "      <td>3012311</td>\n",
       "      <td>2019-08-01</td>\n",
       "      <td>2019-08-01</td>\n",
       "      <td>2019-08-01</td>\n",
       "      <td>1</td>\n",
       "    </tr>\n",
       "    <tr>\n",
       "      <th>18</th>\n",
       "      <td>rrT1460</td>\n",
       "      <td>3628745</td>\n",
       "      <td>2019-08-01</td>\n",
       "      <td>2019-08-01</td>\n",
       "      <td>2019-08-01</td>\n",
       "      <td>1</td>\n",
       "    </tr>\n",
       "    <tr>\n",
       "      <th>32</th>\n",
       "      <td>rrT2990</td>\n",
       "      <td>3301506</td>\n",
       "      <td>2019-08-01</td>\n",
       "      <td>2019-08-01</td>\n",
       "      <td>2019-08-01</td>\n",
       "      <td>1</td>\n",
       "    </tr>\n",
       "    <tr>\n",
       "      <th>33</th>\n",
       "      <td>rrT3115</td>\n",
       "      <td>3628745</td>\n",
       "      <td>2019-08-01</td>\n",
       "      <td>2019-08-01</td>\n",
       "      <td>2019-08-01</td>\n",
       "      <td>3</td>\n",
       "    </tr>\n",
       "    <tr>\n",
       "      <th>43</th>\n",
       "      <td>rrT3575</td>\n",
       "      <td>3635605</td>\n",
       "      <td>2019-08-01</td>\n",
       "      <td>2019-10-13</td>\n",
       "      <td>2019-10-13</td>\n",
       "      <td>1</td>\n",
       "    </tr>\n",
       "    <tr>\n",
       "      <th>44</th>\n",
       "      <td>rrT3605</td>\n",
       "      <td>3635690</td>\n",
       "      <td>2019-08-01</td>\n",
       "      <td>2019-10-14</td>\n",
       "      <td>2019-10-14</td>\n",
       "      <td>1</td>\n",
       "    </tr>\n",
       "    <tr>\n",
       "      <th>45</th>\n",
       "      <td>rrT3620</td>\n",
       "      <td>317040</td>\n",
       "      <td>2019-08-01</td>\n",
       "      <td>2019-08-01</td>\n",
       "      <td>2019-08-01</td>\n",
       "      <td>1</td>\n",
       "    </tr>\n",
       "    <tr>\n",
       "      <th>46</th>\n",
       "      <td>rrT3645</td>\n",
       "      <td>317040</td>\n",
       "      <td>2019-08-01</td>\n",
       "      <td>2019-08-01</td>\n",
       "      <td>2019-08-01</td>\n",
       "      <td>1</td>\n",
       "    </tr>\n",
       "    <tr>\n",
       "      <th>47</th>\n",
       "      <td>rrT3665</td>\n",
       "      <td>3635605</td>\n",
       "      <td>2019-08-01</td>\n",
       "      <td>2019-10-13</td>\n",
       "      <td>2019-10-13</td>\n",
       "      <td>11</td>\n",
       "    </tr>\n",
       "    <tr>\n",
       "      <th>48</th>\n",
       "      <td>rrT3690</td>\n",
       "      <td>317040</td>\n",
       "      <td>2019-08-01</td>\n",
       "      <td>2019-08-01</td>\n",
       "      <td>2019-08-01</td>\n",
       "      <td>1</td>\n",
       "    </tr>\n",
       "    <tr>\n",
       "      <th>50</th>\n",
       "      <td>rrT3885</td>\n",
       "      <td>3633835</td>\n",
       "      <td>2019-08-01</td>\n",
       "      <td>2019-08-04</td>\n",
       "      <td>2019-08-04</td>\n",
       "      <td>3</td>\n",
       "    </tr>\n",
       "    <tr>\n",
       "      <th>55</th>\n",
       "      <td>rrT4695</td>\n",
       "      <td>3065041</td>\n",
       "      <td>2019-08-01</td>\n",
       "      <td>2019-10-18</td>\n",
       "      <td>2019-10-18</td>\n",
       "      <td>13</td>\n",
       "    </tr>\n",
       "    <tr>\n",
       "      <th>58</th>\n",
       "      <td>rrT5045</td>\n",
       "      <td>2828091</td>\n",
       "      <td>2019-08-01</td>\n",
       "      <td>2019-08-01</td>\n",
       "      <td>2019-08-01</td>\n",
       "      <td>1</td>\n",
       "    </tr>\n",
       "    <tr>\n",
       "      <th>59</th>\n",
       "      <td>rrT5200</td>\n",
       "      <td>2828091</td>\n",
       "      <td>2019-08-01</td>\n",
       "      <td>2019-10-23</td>\n",
       "      <td>2019-10-23</td>\n",
       "      <td>1</td>\n",
       "    </tr>\n",
       "    <tr>\n",
       "      <th>61</th>\n",
       "      <td>rrT5240</td>\n",
       "      <td>ffR8456</td>\n",
       "      <td>2019-08-01</td>\n",
       "      <td>2019-08-01</td>\n",
       "      <td>2019-08-01</td>\n",
       "      <td>2</td>\n",
       "    </tr>\n",
       "    <tr>\n",
       "      <th>70</th>\n",
       "      <td>rrT6930</td>\n",
       "      <td>3635695</td>\n",
       "      <td>2019-08-01</td>\n",
       "      <td>2019-08-01</td>\n",
       "      <td>2019-08-01</td>\n",
       "      <td>4</td>\n",
       "    </tr>\n",
       "    <tr>\n",
       "      <th>83</th>\n",
       "      <td>rrT7975</td>\n",
       "      <td>3301506</td>\n",
       "      <td>2019-08-01</td>\n",
       "      <td>2019-08-06</td>\n",
       "      <td>2019-08-06</td>\n",
       "      <td>12</td>\n",
       "    </tr>\n",
       "  </tbody>\n",
       "</table>\n",
       "</div>"
      ],
      "text/plain": [
       "    file_id     user    created    updated    deleted version\n",
       "1   rrT0625  2853751 2019-08-01 2019-11-19 1970-01-01      26\n",
       "4   rrT0640  3635605 2019-08-01 2019-10-13 2019-10-13       1\n",
       "5   rrT0645   268126 2019-08-01 2019-11-08 2019-11-08      49\n",
       "11  rrT0860  3012311 2019-08-01 2019-08-01 2019-08-01       1\n",
       "18  rrT1460  3628745 2019-08-01 2019-08-01 2019-08-01       1\n",
       "32  rrT2990  3301506 2019-08-01 2019-08-01 2019-08-01       1\n",
       "33  rrT3115  3628745 2019-08-01 2019-08-01 2019-08-01       3\n",
       "43  rrT3575  3635605 2019-08-01 2019-10-13 2019-10-13       1\n",
       "44  rrT3605  3635690 2019-08-01 2019-10-14 2019-10-14       1\n",
       "45  rrT3620   317040 2019-08-01 2019-08-01 2019-08-01       1\n",
       "46  rrT3645   317040 2019-08-01 2019-08-01 2019-08-01       1\n",
       "47  rrT3665  3635605 2019-08-01 2019-10-13 2019-10-13      11\n",
       "48  rrT3690   317040 2019-08-01 2019-08-01 2019-08-01       1\n",
       "50  rrT3885  3633835 2019-08-01 2019-08-04 2019-08-04       3\n",
       "55  rrT4695  3065041 2019-08-01 2019-10-18 2019-10-18      13\n",
       "58  rrT5045  2828091 2019-08-01 2019-08-01 2019-08-01       1\n",
       "59  rrT5200  2828091 2019-08-01 2019-10-23 2019-10-23       1\n",
       "61  rrT5240  ffR8456 2019-08-01 2019-08-01 2019-08-01       2\n",
       "70  rrT6930  3635695 2019-08-01 2019-08-01 2019-08-01       4\n",
       "83  rrT7975  3301506 2019-08-01 2019-08-06 2019-08-06      12"
      ]
     },
     "execution_count": 10,
     "metadata": {},
     "output_type": "execute_result"
    }
   ],
   "source": [
    "df[df['deleted'].notnull()].head(20)"
   ]
  },
  {
   "cell_type": "code",
   "execution_count": 11,
   "metadata": {},
   "outputs": [
    {
     "name": "stdout",
     "output_type": "stream",
     "text": [
      "28026\n"
     ]
    }
   ],
   "source": [
    "# Lets confirm how many rows where deleted date equals updated date.\n",
    "# This will confirm whether we should update deleted date to match updated date.\n",
    "\n",
    "print(len(df[df['deleted']==df['updated']]))\n",
    "\n",
    "# With 28026 match this is a good indication to change the 1970 dates to match the updated dates."
   ]
  },
  {
   "cell_type": "markdown",
   "metadata": {},
   "source": [
    "#### The summary indicates that we should have 28338 deleted dates. 28026 + 259 is only 28285. Looks like there are 53 rows where deleted date does not equal updated date. Lets focus on the 259 count of 1970 dates first."
   ]
  },
  {
   "cell_type": "code",
   "execution_count": 12,
   "metadata": {},
   "outputs": [
    {
     "data": {
      "text/html": [
       "<div>\n",
       "<style scoped>\n",
       "    .dataframe tbody tr th:only-of-type {\n",
       "        vertical-align: middle;\n",
       "    }\n",
       "\n",
       "    .dataframe tbody tr th {\n",
       "        vertical-align: top;\n",
       "    }\n",
       "\n",
       "    .dataframe thead th {\n",
       "        text-align: right;\n",
       "    }\n",
       "</style>\n",
       "<table border=\"1\" class=\"dataframe\">\n",
       "  <thead>\n",
       "    <tr style=\"text-align: right;\">\n",
       "      <th></th>\n",
       "      <th>file_id</th>\n",
       "      <th>user</th>\n",
       "      <th>created</th>\n",
       "      <th>updated</th>\n",
       "      <th>deleted</th>\n",
       "      <th>version</th>\n",
       "    </tr>\n",
       "  </thead>\n",
       "  <tbody>\n",
       "    <tr>\n",
       "      <th>1</th>\n",
       "      <td>rrT0625</td>\n",
       "      <td>2853751</td>\n",
       "      <td>2019-08-01</td>\n",
       "      <td>2019-11-19</td>\n",
       "      <td>1970-01-01</td>\n",
       "      <td>26</td>\n",
       "    </tr>\n",
       "    <tr>\n",
       "      <th>500</th>\n",
       "      <td>KLp3685</td>\n",
       "      <td>2728736</td>\n",
       "      <td>2019-08-01</td>\n",
       "      <td>2019-08-01</td>\n",
       "      <td>1970-01-01</td>\n",
       "      <td>2</td>\n",
       "    </tr>\n",
       "    <tr>\n",
       "      <th>569</th>\n",
       "      <td>KLp4075</td>\n",
       "      <td>3161776</td>\n",
       "      <td>2019-08-01</td>\n",
       "      <td>2019-12-09</td>\n",
       "      <td>1970-01-01</td>\n",
       "      <td>2</td>\n",
       "    </tr>\n",
       "    <tr>\n",
       "      <th>597</th>\n",
       "      <td>KLp4290</td>\n",
       "      <td>262451</td>\n",
       "      <td>2019-08-01</td>\n",
       "      <td>2019-08-21</td>\n",
       "      <td>1970-01-01</td>\n",
       "      <td>2</td>\n",
       "    </tr>\n",
       "    <tr>\n",
       "      <th>2482</th>\n",
       "      <td>ffR12445</td>\n",
       "      <td>43539</td>\n",
       "      <td>2019-08-02</td>\n",
       "      <td>2019-10-14</td>\n",
       "      <td>1970-01-01</td>\n",
       "      <td>3</td>\n",
       "    </tr>\n",
       "    <tr>\n",
       "      <th>3468</th>\n",
       "      <td>ffR32025</td>\n",
       "      <td>872068</td>\n",
       "      <td>2019-08-05</td>\n",
       "      <td>2019-09-19</td>\n",
       "      <td>1970-01-01</td>\n",
       "      <td>13</td>\n",
       "    </tr>\n",
       "    <tr>\n",
       "      <th>4245</th>\n",
       "      <td>ffR36495</td>\n",
       "      <td>2629501</td>\n",
       "      <td>2019-08-05</td>\n",
       "      <td>2019-12-12</td>\n",
       "      <td>1970-01-01</td>\n",
       "      <td>17</td>\n",
       "    </tr>\n",
       "    <tr>\n",
       "      <th>4247</th>\n",
       "      <td>ffR36505</td>\n",
       "      <td>2871311</td>\n",
       "      <td>2019-08-05</td>\n",
       "      <td>2019-12-04</td>\n",
       "      <td>1970-01-01</td>\n",
       "      <td>5</td>\n",
       "    </tr>\n",
       "    <tr>\n",
       "      <th>4277</th>\n",
       "      <td>ffR36680</td>\n",
       "      <td>2871311</td>\n",
       "      <td>2019-08-05</td>\n",
       "      <td>2019-12-04</td>\n",
       "      <td>1970-01-01</td>\n",
       "      <td>3</td>\n",
       "    </tr>\n",
       "    <tr>\n",
       "      <th>5008</th>\n",
       "      <td>ffR48990</td>\n",
       "      <td>180880</td>\n",
       "      <td>2019-08-06</td>\n",
       "      <td>2019-08-06</td>\n",
       "      <td>1970-01-01</td>\n",
       "      <td>2</td>\n",
       "    </tr>\n",
       "  </tbody>\n",
       "</table>\n",
       "</div>"
      ],
      "text/plain": [
       "       file_id     user    created    updated    deleted version\n",
       "1      rrT0625  2853751 2019-08-01 2019-11-19 1970-01-01      26\n",
       "500    KLp3685  2728736 2019-08-01 2019-08-01 1970-01-01       2\n",
       "569    KLp4075  3161776 2019-08-01 2019-12-09 1970-01-01       2\n",
       "597    KLp4290   262451 2019-08-01 2019-08-21 1970-01-01       2\n",
       "2482  ffR12445    43539 2019-08-02 2019-10-14 1970-01-01       3\n",
       "3468  ffR32025   872068 2019-08-05 2019-09-19 1970-01-01      13\n",
       "4245  ffR36495  2629501 2019-08-05 2019-12-12 1970-01-01      17\n",
       "4247  ffR36505  2871311 2019-08-05 2019-12-04 1970-01-01       5\n",
       "4277  ffR36680  2871311 2019-08-05 2019-12-04 1970-01-01       3\n",
       "5008  ffR48990   180880 2019-08-06 2019-08-06 1970-01-01       2"
      ]
     },
     "execution_count": 12,
     "metadata": {},
     "output_type": "execute_result"
    }
   ],
   "source": [
    "# See which file id has 1970 deleted date. That way when we make the changes we can double check if the changes \n",
    "# were done correctly\n",
    "\n",
    "file_1970 = df[df['deleted']=='1970-01-01']\n",
    "file_1970.head(10)"
   ]
  },
  {
   "cell_type": "markdown",
   "metadata": {},
   "source": [
    "#### Create a list to store all file_id with 1970 deleted date. We will use the list to check if the dates updated like how we want them to."
   ]
  },
  {
   "cell_type": "code",
   "execution_count": 13,
   "metadata": {
    "scrolled": true
   },
   "outputs": [
    {
     "name": "stdout",
     "output_type": "stream",
     "text": [
      "['rrT0625', 'KLp3685', 'KLp4075', 'KLp4290', 'ffR12445', 'ffR32025', 'ffR36495', 'ffR36505', 'ffR36680', 'ffR48990', 'ffR49610', 'ffR52760', 'ffR53045', 'ffR60175', 'ffR62380', 'ffR63930', 'ffR65135', 'ffR65675', 'ffR67195', 'ffR78860', 'ffR78960', 'ffR80080', 'ffR81635', 'ffR83fgT', 'ffR97325', 'ffR99505', '17500390', '175ddR30', '17532010', '17532015', '17532025', '17532030', '17532050', '17537505', '17549290', '17549440', '17592375', '175933pp', '17599400', '17601065', '17604025', '17625030', '17627085', '17627515', '17628080', '17647860', '17648520', '17725280', '17727940', '17733800', '17746735', '17749840', '17749945', '17750075', '17750530', '17750715', '17752495', '17752865', '17768970', '17769215', '17769880', '17770235', '17771445', '17774360', '17775010', '17791835', '17793325', '17795030', '17795040', '17795445', '17798015', '17798035', '178139pp', '17813995', '17818250', '17827540', '17827pp0', '17831960', '17849670', '17850035', '17850045', '17850975', '17852720', '17853fgT', '17865660', '17869140', '178876pp', '17887910', '17889410', '17889485', '17889695', '17890990', '17891015', '17908485', '17908495', '17909080', '17909620', '17909640', '17909695', '17909740', '17910505', '17914260', '17914290', '1792pp75', '17928685', '17928915', '17929040', '179344pp', '17934505', '17941480', '17953705', '179pp960', '17956600', '17961125', '17971420', '17975315', '17975965', '17993210', '17996595', '17998100', '17998330', '180053pp', '18008350', '18014150', '180ffR50', '180nnJ75', '18019050', '18033215', '18036912', '18036932', '18037485', '18046745', '18061250', '18063715', '18082925', '18109350', '18112765', '18113535', '18113745', '18114280', '18114590', '18114605', '18116325', '18116570', '18131420', '18133500', '181370pp', '18137090', '18145985', '18146995', '18157195', '18157200', '18176195', '18177225', '18177885', '18199600', '18200085', '18202470', '18222995', '18223965', '18227825', '18227835', '18228300', '18229690', '18230215', '18230250', '18230310', '18241fgT', '182439pp', '18245340', '18246fgT', '18246190', '18246195', '18246200', '18266830', '18267475', '18268225', '18269115', '18279025', '18322485', '18322495', '18341325', '18347270', '18359675', '18360285', '183606pp', '18369630', '18370780', '18373245', '18373685', '18378290', '18402280', '18402710', '18404970', '18478490', 'fgT30930', 'fgT30950', 'fgT309pp', 'fgT30960', 'fgT51340', 'fgTpp869', 'fgT57740', 'fgT762pp', 'fgT79325', '18620080', '18620090', '18621285', '18667910', '18670645', '18670725', '18673230', '18683750', '18683925', '18684760', '18698995', 'ddR03110', 'ddR03315', 'ddR03640', 'ddR17135', 'ddR36125', 'ddR36870', 'ddR38075', 'ddR56910', 'ddR569pp', 'ddR57020', 'ddR57035', 'ddR57060', 'ddR58125', 'ddR60875', 'ddR60940', 'ddR63115', 'ddR69310', 'ddR69420', 'ddR69545', 'ddR69745', 'ddR71425', 'ddR73925', 'ddR74190', 'ddR74310', 'ddR74605', 'ddR94600', 'ddR95630', 'ddR96125', 'nnJ12015', 'nnJ12070', 'nnJ29595', 'nnJ45630', 'nnJ45635', 'nnJ45640', 'nnJ45645', 'nnJ52535', 'nnJ850pp', 'nnJ861pp', 'Gty06145', 'Gty08340', 'Gty09150', 'Gty26545', 'Gty27735', 'Gty30960']\n"
     ]
    }
   ],
   "source": [
    "list_1970 = file_1970[\"file_id\"].tolist()\n",
    "print(list_1970)"
   ]
  },
  {
   "cell_type": "markdown",
   "metadata": {},
   "source": [
    "#### Update 1970 dates to match updated dates"
   ]
  },
  {
   "cell_type": "code",
   "execution_count": 14,
   "metadata": {},
   "outputs": [],
   "source": [
    "df.loc[df['deleted']==\"1970-01-01\", 'deleted'] = df['updated']"
   ]
  },
  {
   "cell_type": "code",
   "execution_count": 15,
   "metadata": {},
   "outputs": [
    {
     "data": {
      "text/html": [
       "<div>\n",
       "<style scoped>\n",
       "    .dataframe tbody tr th:only-of-type {\n",
       "        vertical-align: middle;\n",
       "    }\n",
       "\n",
       "    .dataframe tbody tr th {\n",
       "        vertical-align: top;\n",
       "    }\n",
       "\n",
       "    .dataframe thead th {\n",
       "        text-align: right;\n",
       "    }\n",
       "</style>\n",
       "<table border=\"1\" class=\"dataframe\">\n",
       "  <thead>\n",
       "    <tr style=\"text-align: right;\">\n",
       "      <th></th>\n",
       "      <th>file_id</th>\n",
       "      <th>user</th>\n",
       "      <th>created</th>\n",
       "      <th>updated</th>\n",
       "      <th>deleted</th>\n",
       "      <th>version</th>\n",
       "    </tr>\n",
       "  </thead>\n",
       "  <tbody>\n",
       "    <tr>\n",
       "      <th>1</th>\n",
       "      <td>rrT0625</td>\n",
       "      <td>2853751</td>\n",
       "      <td>2019-08-01</td>\n",
       "      <td>2019-11-19</td>\n",
       "      <td>2019-11-19</td>\n",
       "      <td>26</td>\n",
       "    </tr>\n",
       "    <tr>\n",
       "      <th>500</th>\n",
       "      <td>KLp3685</td>\n",
       "      <td>2728736</td>\n",
       "      <td>2019-08-01</td>\n",
       "      <td>2019-08-01</td>\n",
       "      <td>2019-08-01</td>\n",
       "      <td>2</td>\n",
       "    </tr>\n",
       "    <tr>\n",
       "      <th>569</th>\n",
       "      <td>KLp4075</td>\n",
       "      <td>3161776</td>\n",
       "      <td>2019-08-01</td>\n",
       "      <td>2019-12-09</td>\n",
       "      <td>2019-12-09</td>\n",
       "      <td>2</td>\n",
       "    </tr>\n",
       "    <tr>\n",
       "      <th>597</th>\n",
       "      <td>KLp4290</td>\n",
       "      <td>262451</td>\n",
       "      <td>2019-08-01</td>\n",
       "      <td>2019-08-21</td>\n",
       "      <td>2019-08-21</td>\n",
       "      <td>2</td>\n",
       "    </tr>\n",
       "    <tr>\n",
       "      <th>2482</th>\n",
       "      <td>ffR12445</td>\n",
       "      <td>43539</td>\n",
       "      <td>2019-08-02</td>\n",
       "      <td>2019-10-14</td>\n",
       "      <td>2019-10-14</td>\n",
       "      <td>3</td>\n",
       "    </tr>\n",
       "    <tr>\n",
       "      <th>3468</th>\n",
       "      <td>ffR32025</td>\n",
       "      <td>872068</td>\n",
       "      <td>2019-08-05</td>\n",
       "      <td>2019-09-19</td>\n",
       "      <td>2019-09-19</td>\n",
       "      <td>13</td>\n",
       "    </tr>\n",
       "    <tr>\n",
       "      <th>4245</th>\n",
       "      <td>ffR36495</td>\n",
       "      <td>2629501</td>\n",
       "      <td>2019-08-05</td>\n",
       "      <td>2019-12-12</td>\n",
       "      <td>2019-12-12</td>\n",
       "      <td>17</td>\n",
       "    </tr>\n",
       "    <tr>\n",
       "      <th>4247</th>\n",
       "      <td>ffR36505</td>\n",
       "      <td>2871311</td>\n",
       "      <td>2019-08-05</td>\n",
       "      <td>2019-12-04</td>\n",
       "      <td>2019-12-04</td>\n",
       "      <td>5</td>\n",
       "    </tr>\n",
       "    <tr>\n",
       "      <th>4277</th>\n",
       "      <td>ffR36680</td>\n",
       "      <td>2871311</td>\n",
       "      <td>2019-08-05</td>\n",
       "      <td>2019-12-04</td>\n",
       "      <td>2019-12-04</td>\n",
       "      <td>3</td>\n",
       "    </tr>\n",
       "    <tr>\n",
       "      <th>5008</th>\n",
       "      <td>ffR48990</td>\n",
       "      <td>180880</td>\n",
       "      <td>2019-08-06</td>\n",
       "      <td>2019-08-06</td>\n",
       "      <td>2019-08-06</td>\n",
       "      <td>2</td>\n",
       "    </tr>\n",
       "  </tbody>\n",
       "</table>\n",
       "</div>"
      ],
      "text/plain": [
       "       file_id     user    created    updated    deleted version\n",
       "1      rrT0625  2853751 2019-08-01 2019-11-19 2019-11-19      26\n",
       "500    KLp3685  2728736 2019-08-01 2019-08-01 2019-08-01       2\n",
       "569    KLp4075  3161776 2019-08-01 2019-12-09 2019-12-09       2\n",
       "597    KLp4290   262451 2019-08-01 2019-08-21 2019-08-21       2\n",
       "2482  ffR12445    43539 2019-08-02 2019-10-14 2019-10-14       3\n",
       "3468  ffR32025   872068 2019-08-05 2019-09-19 2019-09-19      13\n",
       "4245  ffR36495  2629501 2019-08-05 2019-12-12 2019-12-12      17\n",
       "4247  ffR36505  2871311 2019-08-05 2019-12-04 2019-12-04       5\n",
       "4277  ffR36680  2871311 2019-08-05 2019-12-04 2019-12-04       3\n",
       "5008  ffR48990   180880 2019-08-06 2019-08-06 2019-08-06       2"
      ]
     },
     "execution_count": 15,
     "metadata": {},
     "output_type": "execute_result"
    }
   ],
   "source": [
    "# Lets check to see if we made the changes correctly. Refer back to list_1970. \n",
    "# That list has the file id of all 1970 deleted dates before we made the changes.\n",
    "\n",
    "check_df = df[df['file_id'].isin(list_1970)]\n",
    "check_df.head(10)\n",
    "\n",
    "# Looking at the top 10 rows we can confirm that it was done correctly."
   ]
  },
  {
   "cell_type": "markdown",
   "metadata": {},
   "source": [
    "#### Lets circle back to the 53 rows where updated date does not equal deleted date."
   ]
  },
  {
   "cell_type": "code",
   "execution_count": 30,
   "metadata": {
    "scrolled": true
   },
   "outputs": [
    {
     "name": "stdout",
     "output_type": "stream",
     "text": [
      "         file_id     user    created    updated    deleted version\n",
      "1476    ffR06450  3179881 2019-08-02 2019-11-12 2019-08-06       1\n",
      "2639    ffR178pp  3601670 2019-08-03 2019-08-05 2019-08-04       1\n",
      "6138    ffR60680  3245996 2019-08-07 2019-12-20 2019-09-21      36\n",
      "9275    ffR97900   909363 2019-08-09 2019-10-22 2019-10-21       3\n",
      "10225   175178pp  1257103 2019-08-10 2019-10-14 2019-09-30      28\n",
      "10967   17549340  2702756 2019-08-12 2019-12-10 2019-10-15       2\n",
      "12004   17pp5065  3640pp5 2019-08-12 2019-10-04 2019-08-12       1\n",
      "14683   17575615  3626420 2019-08-13 2019-09-13 2019-09-11       3\n",
      "20081   17626535  3139506 2019-08-14 2019-08-19 2019-08-15       1\n",
      "20217   17627295  3325386 2019-08-14 2019-12-20 2019-12-19       4\n",
      "21716   17650345  3637630 2019-08-15 2019-10-08 2019-08-29      12\n",
      "21738   17650515  3637630 2019-08-15 2019-10-08 2019-08-29       1\n",
      "26465   17751340  1431233 2019-08-20 2019-09-11 2019-08-26      39\n",
      "26843   17767510  1044328 2019-08-21 2019-12-04 2019-11-13      15\n",
      "27069   17769270  3644160 2019-08-21 2019-08-22 2019-08-21       6\n",
      "27138   17769685  3644620 2019-08-21 2019-08-30 2019-08-22      10\n",
      "27144   17769720  3644620 2019-08-21 2019-08-23 2019-08-22       4\n",
      "27701   17772915  1431233 2019-08-21 2019-09-11 2019-08-26      22\n",
      "27800   17773500      146 2019-08-21 2019-10-06 2019-10-05      82\n",
      "31536   17847665  1245731 2019-08-26 2019-09-14 2019-09-12       9\n",
      "31545   17847715  1809136 2019-08-26 2019-10-15 2019-09-30      10\n",
      "31547   17847745  1245731 2019-08-26 2019-09-14 2019-09-12       8\n",
      "31548   17847750  1245731 2019-08-26 2019-09-14 2019-09-12       8\n",
      "32826   17863350  2702756 2019-08-27 2019-12-10 2019-10-15       2\n",
      "33101   17864905      146 2019-08-27 2019-10-06 2019-10-05       2\n",
      "33630   17867940  3640pp5 2019-08-27 2019-10-21 2019-10-04      11\n",
      "35757   17899020  3626420 2019-08-29 2019-09-13 2019-09-11       1\n",
      "39995   1797Gty0  3640pp5 2019-09-03 2019-10-04 2019-09-03       3\n",
      "49158   18092100  2444762 2019-09-10 2019-09-11 2019-09-10      15\n",
      "51349   18130675      146 2019-09-12 2019-10-06 2019-10-05       3\n",
      "51359   18130745      146 2019-09-12 2019-10-06 2019-09-26       1\n",
      "51635   18132415      146 2019-09-12 2019-09-30 2019-09-26       3\n",
      "58553   18230370   247948 2019-09-18 2019-09-30 2019-09-19       5\n",
      "58587   18230585   247948 2019-09-18 2019-09-30 2019-09-19       5\n",
      "68691   18382730  3526740 2019-09-29 2019-10-18 2019-10-12      31\n",
      "69803   1840pp50  3297596 2019-09-30 2019-10-24 2019-10-23      29\n",
      "71142   18429000   247948 2019-10-01 2019-11-01 2019-10-11       3\n",
      "74446   18496275  3602665 2019-10-04 2019-10-20 2019-10-08       2\n",
      "74657   18497635  2625971 2019-10-04 2019-12-09 2019-11-12       5\n",
      "75249   fgT01710   247948 2019-10-04 2019-10-05 2019-10-04       3\n",
      "76442   fgT33510  3640pp5 2019-10-07 2019-11-19 2019-10-08       3\n",
      "77457   fgT52775  3601670 2019-10-08 2019-10-21 2019-10-09      13\n",
      "87447   18685145  3646015 2019-10-17 2019-11-12 2019-10-30       9\n",
      "90245   ddR37750   909363 2019-10-21 2019-12-06 2019-12-02       9\n",
      "90846   ddR41195  1757926 2019-10-21 2019-10-22 2019-10-21       1\n",
      "90854   ddR41250  1757926 2019-10-21 2019-10-22 2019-10-21       1\n",
      "90857   ddR41265  1757926 2019-10-21 2019-10-22 2019-10-21       1\n",
      "93539   ddR75985   247948 2019-10-23 2019-11-01 2019-10-29       3\n",
      "93546   ddR76030   247948 2019-10-23 2019-11-01 2019-10-29       3\n",
      "97962   nnJ66925   247948 2019-10-28 2019-12-06 2019-11-03       7\n",
      "99095   nnJ87335   247948 2019-10-29 2019-11-14 2019-10-29       3\n",
      "99268   nnJ88270  3325386 2019-10-29 2019-12-20 2019-10-29       7\n",
      "100533  Gty09630   247948 2019-10-30 2019-12-06 2019-11-20       3\n"
     ]
    }
   ],
   "source": [
    "not_null_deleted = df[df['deleted'].notnull()]\n",
    "not_null_deleted = not_null_deleted[not_null_deleted['deleted']!=not_null_deleted['updated']]\n",
    "print(not_null_deleted)"
   ]
  },
  {
   "cell_type": "markdown",
   "metadata": {},
   "source": [
    "#### The above query shows deleted date being less than updated date. This does not make sense logically and since we confirmed that updated dates should equal deleted dates, that is what we will do here as well."
   ]
  },
  {
   "cell_type": "code",
   "execution_count": 31,
   "metadata": {},
   "outputs": [
    {
     "name": "stdout",
     "output_type": "stream",
     "text": [
      "['ffR06450', 'ffR178pp', 'ffR60680', 'ffR97900', '175178pp', '17549340', '17pp5065', '17575615', '17626535', '17627295', '17650345', '17650515', '17751340', '17767510', '17769270', '17769685', '17769720', '17772915', '17773500', '17847665', '17847715', '17847745', '17847750', '17863350', '17864905', '17867940', '17899020', '1797Gty0', '18092100', '18130675', '18130745', '18132415', '18230370', '18230585', '18382730', '1840pp50', '18429000', '18496275', '18497635', 'fgT01710', 'fgT33510', 'fgT52775', '18685145', 'ddR37750', 'ddR41195', 'ddR41250', 'ddR41265', 'ddR75985', 'ddR76030', 'nnJ66925', 'nnJ87335', 'nnJ88270', 'Gty09630']\n"
     ]
    }
   ],
   "source": [
    "list_53 = not_null_deleted['file_id'].tolist()\n",
    "print(list_53)"
   ]
  },
  {
   "cell_type": "code",
   "execution_count": 33,
   "metadata": {},
   "outputs": [],
   "source": [
    "testdf = df.copy()"
   ]
  },
  {
   "cell_type": "code",
   "execution_count": 38,
   "metadata": {},
   "outputs": [],
   "source": [
    "testdf['deleted'] = testdf.apply(lambda x: x['updated'] if (np.all(pd.notnull(x['deleted']))) else x['deleted'], axis=1)\n",
    "\n",
    "# This code would have resolved our 259 count of 1970 dates as well had we checked why there were 53 rows where \n",
    "# updated date did not equal deleted date. Would have been less work."
   ]
  },
  {
   "cell_type": "code",
   "execution_count": 39,
   "metadata": {},
   "outputs": [
    {
     "data": {
      "text/html": [
       "<div>\n",
       "<style scoped>\n",
       "    .dataframe tbody tr th:only-of-type {\n",
       "        vertical-align: middle;\n",
       "    }\n",
       "\n",
       "    .dataframe tbody tr th {\n",
       "        vertical-align: top;\n",
       "    }\n",
       "\n",
       "    .dataframe thead th {\n",
       "        text-align: right;\n",
       "    }\n",
       "</style>\n",
       "<table border=\"1\" class=\"dataframe\">\n",
       "  <thead>\n",
       "    <tr style=\"text-align: right;\">\n",
       "      <th></th>\n",
       "      <th>file_id</th>\n",
       "      <th>user</th>\n",
       "      <th>created</th>\n",
       "      <th>updated</th>\n",
       "      <th>deleted</th>\n",
       "      <th>version</th>\n",
       "    </tr>\n",
       "  </thead>\n",
       "  <tbody>\n",
       "    <tr>\n",
       "      <th>1476</th>\n",
       "      <td>ffR06450</td>\n",
       "      <td>3179881</td>\n",
       "      <td>2019-08-02</td>\n",
       "      <td>2019-11-12</td>\n",
       "      <td>2019-11-12</td>\n",
       "      <td>1</td>\n",
       "    </tr>\n",
       "    <tr>\n",
       "      <th>2639</th>\n",
       "      <td>ffR178pp</td>\n",
       "      <td>3601670</td>\n",
       "      <td>2019-08-03</td>\n",
       "      <td>2019-08-05</td>\n",
       "      <td>2019-08-05</td>\n",
       "      <td>1</td>\n",
       "    </tr>\n",
       "    <tr>\n",
       "      <th>6138</th>\n",
       "      <td>ffR60680</td>\n",
       "      <td>3245996</td>\n",
       "      <td>2019-08-07</td>\n",
       "      <td>2019-12-20</td>\n",
       "      <td>2019-12-20</td>\n",
       "      <td>36</td>\n",
       "    </tr>\n",
       "    <tr>\n",
       "      <th>9275</th>\n",
       "      <td>ffR97900</td>\n",
       "      <td>909363</td>\n",
       "      <td>2019-08-09</td>\n",
       "      <td>2019-10-22</td>\n",
       "      <td>2019-10-22</td>\n",
       "      <td>3</td>\n",
       "    </tr>\n",
       "    <tr>\n",
       "      <th>10225</th>\n",
       "      <td>175178pp</td>\n",
       "      <td>1257103</td>\n",
       "      <td>2019-08-10</td>\n",
       "      <td>2019-10-14</td>\n",
       "      <td>2019-10-14</td>\n",
       "      <td>28</td>\n",
       "    </tr>\n",
       "    <tr>\n",
       "      <th>10967</th>\n",
       "      <td>17549340</td>\n",
       "      <td>2702756</td>\n",
       "      <td>2019-08-12</td>\n",
       "      <td>2019-12-10</td>\n",
       "      <td>2019-12-10</td>\n",
       "      <td>2</td>\n",
       "    </tr>\n",
       "    <tr>\n",
       "      <th>12004</th>\n",
       "      <td>17pp5065</td>\n",
       "      <td>3640pp5</td>\n",
       "      <td>2019-08-12</td>\n",
       "      <td>2019-10-04</td>\n",
       "      <td>2019-10-04</td>\n",
       "      <td>1</td>\n",
       "    </tr>\n",
       "    <tr>\n",
       "      <th>14683</th>\n",
       "      <td>17575615</td>\n",
       "      <td>3626420</td>\n",
       "      <td>2019-08-13</td>\n",
       "      <td>2019-09-13</td>\n",
       "      <td>2019-09-13</td>\n",
       "      <td>3</td>\n",
       "    </tr>\n",
       "    <tr>\n",
       "      <th>20081</th>\n",
       "      <td>17626535</td>\n",
       "      <td>3139506</td>\n",
       "      <td>2019-08-14</td>\n",
       "      <td>2019-08-19</td>\n",
       "      <td>2019-08-19</td>\n",
       "      <td>1</td>\n",
       "    </tr>\n",
       "    <tr>\n",
       "      <th>20217</th>\n",
       "      <td>17627295</td>\n",
       "      <td>3325386</td>\n",
       "      <td>2019-08-14</td>\n",
       "      <td>2019-12-20</td>\n",
       "      <td>2019-12-20</td>\n",
       "      <td>4</td>\n",
       "    </tr>\n",
       "  </tbody>\n",
       "</table>\n",
       "</div>"
      ],
      "text/plain": [
       "        file_id     user    created    updated    deleted version\n",
       "1476   ffR06450  3179881 2019-08-02 2019-11-12 2019-11-12       1\n",
       "2639   ffR178pp  3601670 2019-08-03 2019-08-05 2019-08-05       1\n",
       "6138   ffR60680  3245996 2019-08-07 2019-12-20 2019-12-20      36\n",
       "9275   ffR97900   909363 2019-08-09 2019-10-22 2019-10-22       3\n",
       "10225  175178pp  1257103 2019-08-10 2019-10-14 2019-10-14      28\n",
       "10967  17549340  2702756 2019-08-12 2019-12-10 2019-12-10       2\n",
       "12004  17pp5065  3640pp5 2019-08-12 2019-10-04 2019-10-04       1\n",
       "14683  17575615  3626420 2019-08-13 2019-09-13 2019-09-13       3\n",
       "20081  17626535  3139506 2019-08-14 2019-08-19 2019-08-19       1\n",
       "20217  17627295  3325386 2019-08-14 2019-12-20 2019-12-20       4"
      ]
     },
     "execution_count": 39,
     "metadata": {},
     "output_type": "execute_result"
    }
   ],
   "source": [
    "check_df2 = testdf[testdf['file_id'].isin(list_53)]\n",
    "check_df2.head(10)"
   ]
  },
  {
   "cell_type": "markdown",
   "metadata": {},
   "source": [
    "# the above works!!!!!!"
   ]
  },
  {
   "cell_type": "code",
   "execution_count": 40,
   "metadata": {},
   "outputs": [
    {
     "name": "stdout",
     "output_type": "stream",
     "text": [
      "28338\n"
     ]
    }
   ],
   "source": [
    "print(len(testdf[testdf['deleted']==testdf['updated']]))\n",
    "\n",
    "# This will confirm that all our deleted dates are now correct. We should have 28338 instances where a file was deleted"
   ]
  },
  {
   "cell_type": "code",
   "execution_count": null,
   "metadata": {},
   "outputs": [],
   "source": []
  },
  {
   "cell_type": "code",
   "execution_count": null,
   "metadata": {},
   "outputs": [],
   "source": []
  },
  {
   "cell_type": "code",
   "execution_count": null,
   "metadata": {},
   "outputs": [],
   "source": []
  },
  {
   "cell_type": "code",
   "execution_count": null,
   "metadata": {},
   "outputs": [],
   "source": [
    "testdf['deleted'] = testdf[testdf['file_id'].isin(list_53)]"
   ]
  },
  {
   "cell_type": "code",
   "execution_count": 24,
   "metadata": {},
   "outputs": [],
   "source": []
  },
  {
   "cell_type": "code",
   "execution_count": 25,
   "metadata": {},
   "outputs": [],
   "source": [
    "testdf.loc[testdf['deleted'].notnull()!=testdf['updated'].notnull(), 'deleted'] = df['updated']"
   ]
  },
  {
   "cell_type": "code",
   "execution_count": null,
   "metadata": {},
   "outputs": [],
   "source": []
  },
  {
   "cell_type": "code",
   "execution_count": 26,
   "metadata": {},
   "outputs": [
    {
     "name": "stdout",
     "output_type": "stream",
     "text": [
      "102080\n"
     ]
    }
   ],
   "source": [
    "print(len(testdf[testdf['deleted']==testdf['updated']]))"
   ]
  },
  {
   "cell_type": "code",
   "execution_count": 27,
   "metadata": {},
   "outputs": [
    {
     "data": {
      "text/plain": [
       "file_id     0\n",
       "user        4\n",
       "created     0\n",
       "updated     0\n",
       "deleted     0\n",
       "version    30\n",
       "dtype: int64"
      ]
     },
     "execution_count": 27,
     "metadata": {},
     "output_type": "execute_result"
    }
   ],
   "source": [
    "testdf.isnull().sum()"
   ]
  },
  {
   "cell_type": "code",
   "execution_count": null,
   "metadata": {},
   "outputs": [],
   "source": [
    "df.loc[df['deleted']==\"1970-01-01\", 'deleted'] = df['updated']"
   ]
  },
  {
   "cell_type": "code",
   "execution_count": null,
   "metadata": {},
   "outputs": [],
   "source": []
  },
  {
   "cell_type": "code",
   "execution_count": null,
   "metadata": {},
   "outputs": [],
   "source": [
    "print((not_null_deleted[not_null_deleted['deleted']!=not_null_deleted['updated']]))"
   ]
  },
  {
   "cell_type": "code",
   "execution_count": null,
   "metadata": {},
   "outputs": [],
   "source": []
  },
  {
   "cell_type": "code",
   "execution_count": null,
   "metadata": {},
   "outputs": [],
   "source": []
  },
  {
   "cell_type": "code",
   "execution_count": null,
   "metadata": {},
   "outputs": [],
   "source": [
    "print(len(testdf[testdf['deleted']==testdf['updated']]))"
   ]
  },
  {
   "cell_type": "code",
   "execution_count": null,
   "metadata": {},
   "outputs": [],
   "source": [
    "testdf2['deleted'].fillna(df['Cat2'], inplace = True)"
   ]
  },
  {
   "cell_type": "code",
   "execution_count": null,
   "metadata": {},
   "outputs": [],
   "source": []
  },
  {
   "cell_type": "code",
   "execution_count": null,
   "metadata": {},
   "outputs": [],
   "source": []
  },
  {
   "cell_type": "code",
   "execution_count": null,
   "metadata": {},
   "outputs": [],
   "source": []
  },
  {
   "cell_type": "code",
   "execution_count": null,
   "metadata": {},
   "outputs": [],
   "source": []
  },
  {
   "cell_type": "code",
   "execution_count": null,
   "metadata": {},
   "outputs": [],
   "source": []
  },
  {
   "cell_type": "code",
   "execution_count": null,
   "metadata": {},
   "outputs": [],
   "source": []
  },
  {
   "cell_type": "code",
   "execution_count": null,
   "metadata": {
    "scrolled": false
   },
   "outputs": [],
   "source": []
  },
  {
   "cell_type": "markdown",
   "metadata": {},
   "source": [
    "#### Lets convert version to int"
   ]
  },
  {
   "cell_type": "code",
   "execution_count": null,
   "metadata": {
    "scrolled": true
   },
   "outputs": [],
   "source": [
    "df['version'] = df['version'].astype(int)\n",
    "# got an error: invalid literal for int() with base 10: 'pp'. Looks like not all versions are numbers"
   ]
  },
  {
   "cell_type": "code",
   "execution_count": null,
   "metadata": {
    "scrolled": false
   },
   "outputs": [],
   "source": [
    "#lets look at unique values for version\n",
    "df['version'].unique()"
   ]
  },
  {
   "cell_type": "code",
   "execution_count": null,
   "metadata": {},
   "outputs": [],
   "source": [
    "test_df = df.copy()"
   ]
  },
  {
   "cell_type": "markdown",
   "metadata": {},
   "source": [
    "#### There are versions with letters in it. Lets remove them so that we can convert to integer"
   ]
  },
  {
   "cell_type": "code",
   "execution_count": null,
   "metadata": {
    "scrolled": true
   },
   "outputs": [],
   "source": [
    "# remove rows with these versions in list a\n",
    "a = ['fgT', '1pp', '4pp' 'ffR' 'nnJ' 'Gty' 'ddR' '2pp']\n",
    "df = df[~df['version'].isin(a)]"
   ]
  },
  {
   "cell_type": "code",
   "execution_count": null,
   "metadata": {},
   "outputs": [],
   "source": [
    "# remove NaN from version\n",
    "df = df.dropna(subset=['version'])\n",
    "df.isnull().sum()"
   ]
  },
  {
   "cell_type": "markdown",
   "metadata": {},
   "source": [
    "#### There are some null values in user. Lets take a closer look."
   ]
  },
  {
   "cell_type": "code",
   "execution_count": null,
   "metadata": {},
   "outputs": [],
   "source": [
    "print(df[df[\"user\"].isnull()])"
   ]
  },
  {
   "cell_type": "code",
   "execution_count": null,
   "metadata": {},
   "outputs": [],
   "source": [
    "# remove NaN from user since we want to focus on users with an ID. 4 is a small number to drop so we should be fine.\n",
    "df = df.dropna(subset=['user'])\n",
    "df.isnull().sum()"
   ]
  },
  {
   "cell_type": "markdown",
   "metadata": {},
   "source": [
    "#### We do not need to remove NaN from deleted column. In this scenario we can leave it as is. Lets check the dates from created, updated and deleted and see if they are within the timeframe Aug. 1st, 2019 to Oct. 31, 2019"
   ]
  },
  {
   "cell_type": "code",
   "execution_count": null,
   "metadata": {},
   "outputs": [],
   "source": [
    "df['created'].unique"
   ]
  },
  {
   "cell_type": "code",
   "execution_count": null,
   "metadata": {
    "scrolled": true
   },
   "outputs": [],
   "source": []
  },
  {
   "cell_type": "code",
   "execution_count": null,
   "metadata": {},
   "outputs": [],
   "source": []
  },
  {
   "cell_type": "code",
   "execution_count": null,
   "metadata": {},
   "outputs": [],
   "source": []
  },
  {
   "cell_type": "code",
   "execution_count": null,
   "metadata": {},
   "outputs": [],
   "source": []
  },
  {
   "cell_type": "code",
   "execution_count": null,
   "metadata": {},
   "outputs": [],
   "source": []
  },
  {
   "cell_type": "code",
   "execution_count": null,
   "metadata": {},
   "outputs": [],
   "source": [
    "print(df[df[\"user\"].isnull()])"
   ]
  },
  {
   "cell_type": "code",
   "execution_count": null,
   "metadata": {
    "scrolled": true
   },
   "outputs": [],
   "source": [
    "print(df[df[\"VERSION\"].isnull()])"
   ]
  },
  {
   "cell_type": "code",
   "execution_count": null,
   "metadata": {},
   "outputs": [],
   "source": []
  },
  {
   "cell_type": "code",
   "execution_count": null,
   "metadata": {},
   "outputs": [],
   "source": []
  },
  {
   "cell_type": "code",
   "execution_count": null,
   "metadata": {},
   "outputs": [],
   "source": [
    "print(df[(df[\"CREATED\"]==df[\"UPDATED\"]) & (df[\"VERSION\"].isna())])"
   ]
  },
  {
   "cell_type": "code",
   "execution_count": null,
   "metadata": {},
   "outputs": [],
   "source": [
    "df[(df[\"CREATED\"]==df[\"UPDATED\"]) & (df[\"VERSION\"].isna())] = df[(df[\"CREATED\"]==df[\"UPDATED\"]) & (df[\"VERSION\"].isna())][\"VERSION\"].fillna(value=0,inplace=True)\n"
   ]
  },
  {
   "cell_type": "code",
   "execution_count": null,
   "metadata": {},
   "outputs": [],
   "source": [
    "print(df[df[\"CREATED\"]==df[\"UPDATED\"]])"
   ]
  },
  {
   "cell_type": "code",
   "execution_count": null,
   "metadata": {},
   "outputs": [],
   "source": [
    "df.isnull().sum()"
   ]
  },
  {
   "cell_type": "code",
   "execution_count": null,
   "metadata": {},
   "outputs": [],
   "source": [
    "loan_df['dti'].fillna(value=loan_df['dti'].mean(), inplace=True)"
   ]
  },
  {
   "cell_type": "code",
   "execution_count": null,
   "metadata": {},
   "outputs": [],
   "source": [
    "df[['A', 'B', 'C', 'D']] = df[['A', 'B', 'C', 'D']].fillna"
   ]
  },
  {
   "cell_type": "code",
   "execution_count": null,
   "metadata": {},
   "outputs": [],
   "source": []
  }
 ],
 "metadata": {
  "hide_input": false,
  "kernelspec": {
   "display_name": "Python 3",
   "language": "python",
   "name": "python3"
  },
  "language_info": {
   "codemirror_mode": {
    "name": "ipython",
    "version": 3
   },
   "file_extension": ".py",
   "mimetype": "text/x-python",
   "name": "python",
   "nbconvert_exporter": "python",
   "pygments_lexer": "ipython3",
   "version": "3.7.6"
  }
 },
 "nbformat": 4,
 "nbformat_minor": 4
}
